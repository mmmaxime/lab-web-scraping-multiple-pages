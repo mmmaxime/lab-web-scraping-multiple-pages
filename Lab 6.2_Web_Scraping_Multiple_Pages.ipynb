{
 "cells": [
  {
   "cell_type": "markdown",
   "id": "0d38afb6",
   "metadata": {},
   "source": [
    "## Lab 6.2 | Web Scraping Multiple Pages"
   ]
  },
  {
   "cell_type": "markdown",
   "id": "cf89957c",
   "metadata": {},
   "source": [
    "### FBI Most Wanted List"
   ]
  },
  {
   "cell_type": "markdown",
   "id": "3d1ec02f",
   "metadata": {},
   "source": [
    "##### Import Librairies"
   ]
  },
  {
   "cell_type": "code",
   "execution_count": 1,
   "id": "b85f04ef",
   "metadata": {},
   "outputs": [],
   "source": [
    "from bs4 import BeautifulSoup\n",
    "import requests\n",
    "import pandas as pd\n",
    "import numpy as pd"
   ]
  },
  {
   "cell_type": "code",
   "execution_count": 2,
   "id": "c8fa2ef4",
   "metadata": {},
   "outputs": [],
   "source": [
    "url = \"https://www.fbi.gov/wanted/topten\""
   ]
  },
  {
   "cell_type": "code",
   "execution_count": 3,
   "id": "5aa69588",
   "metadata": {},
   "outputs": [
    {
     "data": {
      "text/plain": [
       "200"
      ]
     },
     "execution_count": 3,
     "metadata": {},
     "output_type": "execute_result"
    }
   ],
   "source": [
    "response = requests.get(url)\n",
    "response.status_code "
   ]
  },
  {
   "cell_type": "code",
   "execution_count": 4,
   "id": "ee6fb763",
   "metadata": {},
   "outputs": [],
   "source": [
    "soup = BeautifulSoup(response.content, \"html.parser\")"
   ]
  },
  {
   "cell_type": "markdown",
   "id": "194f93fc",
   "metadata": {},
   "source": [
    "##### Commented out the soup as the information was too big to upload"
   ]
  },
  {
   "cell_type": "code",
   "execution_count": 5,
   "id": "518dbfd9",
   "metadata": {},
   "outputs": [],
   "source": [
    "#soup"
   ]
  },
  {
   "cell_type": "markdown",
   "id": "182e7f38",
   "metadata": {},
   "source": [
    "##### Decided to use \"div.col-lg-12 a\" as a selector"
   ]
  },
  {
   "cell_type": "code",
   "execution_count": 18,
   "id": "c9417c4d",
   "metadata": {},
   "outputs": [],
   "source": [
    "#soup.select(\"div.col-lg-12 a\")"
   ]
  },
  {
   "cell_type": "code",
   "execution_count": 9,
   "id": "06d4eb9a",
   "metadata": {},
   "outputs": [
    {
     "data": {
      "text/plain": [
       "[<img src=\"https://www.fbi.gov/++theme++fbigov.theme/uswds-2.9.0/img/icon-dot-gov.svg\"/>,\n",
       " <img src=\"https://www.fbi.gov/++theme++fbigov.theme/uswds-2.9.0/img/icon-https.svg\"/>,\n",
       " <img alt=\"Federal Bureau of Investigation Logo\" src=\"https://www.fbi.gov/++theme++11-14-22-fbi/images/fbi_seal_new.png\" title=\"Federal Bureau of Investigation\"/>,\n",
       " <img alt=\"YULAN ADONAY ARCHAGA CARIAS\" class=\"\" src=\"https://www.fbi.gov/wanted/topten/yulan-adonay-archaga-carias/@@images/image/preview\"/>,\n",
       " <img alt=\"BHADRESHKUMAR CHETANBHAI PATEL\" class=\"\" src=\"https://www.fbi.gov/wanted/topten/bhadreshkumar-chetanbhai-patel/@@images/image/preview\"/>,\n",
       " <img alt=\"ALEJANDRO ROSALES CASTILLO\" class=\"\" src=\"https://www.fbi.gov/wanted/topten/alejandro-castillo/@@images/image/preview\"/>,\n",
       " <img alt=\"RUJA IGNATOVA\" class=\"\" src=\"https://www.fbi.gov/wanted/topten/ruja-ignatova/@@images/image/preview\"/>,\n",
       " <img alt=\"ARNOLDO JIMENEZ\" class=\"\" src=\"https://www.fbi.gov/wanted/topten/arnoldo-jimenez/@@images/image/preview\"/>,\n",
       " <img alt=\"OMAR ALEXANDER CARDENAS\" class=\"\" src=\"https://www.fbi.gov/wanted/topten/omar-alexander-cardenas/@@images/image/preview\"/>,\n",
       " <img alt=\"ALEXIS FLORES\" class=\"\" src=\"https://www.fbi.gov/wanted/topten/alexis-flores/@@images/image/preview\"/>,\n",
       " <img alt=\"JOSE RODOLFO VILLARREAL-HERNANDEZ\" class=\"\" src=\"https://www.fbi.gov/wanted/topten/jose-rodolfo-villarreal-hernandez/@@images/image/preview\"/>,\n",
       " <img alt=\"MICHAEL JAMES PRATT\" class=\"\" src=\"https://www.fbi.gov/wanted/topten/michael-james-pratt/@@images/image/preview\"/>,\n",
       " <img alt=\"RAFAEL CARO-QUINTERO\" class=\"\" src=\"https://www.fbi.gov/wanted/topten/rafael-caro-quintero/@@images/image/preview\"/>,\n",
       " <img src=\"https://www.fbi.gov/++theme++fbigov.theme/images/fbi_seal_new.png\"/>]"
      ]
     },
     "execution_count": 9,
     "metadata": {},
     "output_type": "execute_result"
    }
   ],
   "source": [
    "prestab = soup.select(\"div\")[0]\n",
    "prestab\n",
    "prestab.select(\"img\")"
   ]
  },
  {
   "cell_type": "markdown",
   "id": "d3354980",
   "metadata": {},
   "source": [
    "##### Filtering out the fugitive names though the IMG ALT code in the soup"
   ]
  },
  {
   "cell_type": "code",
   "execution_count": 10,
   "id": "b119ee54",
   "metadata": {},
   "outputs": [
    {
     "name": "stdout",
     "output_type": "stream",
     "text": [
      "None\n",
      "None\n",
      "Federal Bureau of Investigation Logo\n",
      "YULAN ADONAY ARCHAGA CARIAS\n",
      "BHADRESHKUMAR CHETANBHAI PATEL\n",
      "ALEJANDRO ROSALES CASTILLO\n",
      "RUJA IGNATOVA\n",
      "ARNOLDO JIMENEZ\n",
      "OMAR ALEXANDER CARDENAS\n",
      "ALEXIS FLORES\n",
      "JOSE RODOLFO VILLARREAL-HERNANDEZ\n",
      "MICHAEL JAMES PRATT\n",
      "RAFAEL CARO-QUINTERO\n",
      "None\n"
     ]
    }
   ],
   "source": [
    "data = []\n",
    "for ten in prestab.select(\"img\"):\n",
    "    line = ten.get(\"alt\")\n",
    "    print(line)\n",
    "    data.append(line)\n",
    "    if line is not None:\n",
    "        if ((\"img alt\" in line) & \n",
    "            (\"class\" not in line) & \n",
    "            (\"src\" not in line)):\n",
    "            data.append(ten[\"alt\"])"
   ]
  },
  {
   "cell_type": "code",
   "execution_count": 11,
   "id": "24803730",
   "metadata": {},
   "outputs": [
    {
     "data": {
      "text/plain": [
       "[None,\n",
       " None,\n",
       " 'Federal Bureau of Investigation Logo',\n",
       " 'YULAN ADONAY ARCHAGA CARIAS',\n",
       " 'BHADRESHKUMAR CHETANBHAI PATEL',\n",
       " 'ALEJANDRO ROSALES CASTILLO',\n",
       " 'RUJA IGNATOVA',\n",
       " 'ARNOLDO JIMENEZ',\n",
       " 'OMAR ALEXANDER CARDENAS',\n",
       " 'ALEXIS FLORES',\n",
       " 'JOSE RODOLFO VILLARREAL-HERNANDEZ',\n",
       " 'MICHAEL JAMES PRATT',\n",
       " 'RAFAEL CARO-QUINTERO',\n",
       " None]"
      ]
     },
     "metadata": {},
     "output_type": "display_data"
    }
   ],
   "source": [
    "display(data)"
   ]
  },
  {
   "cell_type": "markdown",
   "id": "4e798dfe",
   "metadata": {},
   "source": [
    "##### Removing the None and Federal Bureau of Investigation Logo items from the list"
   ]
  },
  {
   "cell_type": "code",
   "execution_count": 12,
   "id": "45178f41",
   "metadata": {},
   "outputs": [
    {
     "data": {
      "text/plain": [
       "['YULAN ADONAY ARCHAGA CARIAS',\n",
       " 'BHADRESHKUMAR CHETANBHAI PATEL',\n",
       " 'ALEJANDRO ROSALES CASTILLO',\n",
       " 'RUJA IGNATOVA',\n",
       " 'ARNOLDO JIMENEZ',\n",
       " 'OMAR ALEXANDER CARDENAS',\n",
       " 'ALEXIS FLORES',\n",
       " 'JOSE RODOLFO VILLARREAL-HERNANDEZ',\n",
       " 'MICHAEL JAMES PRATT',\n",
       " 'RAFAEL CARO-QUINTERO']"
      ]
     },
     "metadata": {},
     "output_type": "display_data"
    }
   ],
   "source": [
    "unwanted_num = {None,'Federal Bureau of Investigation Logo'}\n",
    "Top10 = [ele for ele in data if ele not in unwanted_num]\n",
    "display(Top10)"
   ]
  },
  {
   "cell_type": "markdown",
   "id": "f4c86e84",
   "metadata": {},
   "source": [
    "### United States Code "
   ]
  },
  {
   "cell_type": "markdown",
   "id": "cb54d2df",
   "metadata": {},
   "source": [
    "##### Running the URL from the US Code site"
   ]
  },
  {
   "cell_type": "code",
   "execution_count": 13,
   "id": "19e4a469",
   "metadata": {},
   "outputs": [],
   "source": [
    "url = \"http://uscode.house.gov/download/download.shtml\""
   ]
  },
  {
   "cell_type": "code",
   "execution_count": 14,
   "id": "eecb1499",
   "metadata": {},
   "outputs": [
    {
     "data": {
      "text/plain": [
       "200"
      ]
     },
     "execution_count": 14,
     "metadata": {},
     "output_type": "execute_result"
    }
   ],
   "source": [
    "response = requests.get(url)\n",
    "response.status_code "
   ]
  },
  {
   "cell_type": "code",
   "execution_count": 15,
   "id": "24f95e70",
   "metadata": {},
   "outputs": [],
   "source": [
    "soup1 = BeautifulSoup(response.content, \"html.parser\")"
   ]
  },
  {
   "cell_type": "markdown",
   "id": "0e6dde54",
   "metadata": {},
   "source": [
    "##### Chose not to run Soup 1 as too much information to load, although before commenting out wanted to confirm that it ran"
   ]
  },
  {
   "cell_type": "code",
   "execution_count": 17,
   "id": "4b33792a",
   "metadata": {},
   "outputs": [],
   "source": [
    "#soup1"
   ]
  },
  {
   "cell_type": "markdown",
   "id": "aaad4c09",
   "metadata": {},
   "source": [
    "##### Running a for loop to filter out the changed codes"
   ]
  },
  {
   "cell_type": "code",
   "execution_count": 19,
   "id": "0440acbf",
   "metadata": {},
   "outputs": [],
   "source": [
    "result = soup1.find(\"div\",{\"class\":\"uscitemlist\"})\n",
    "changes = []\n",
    "\n",
    "results = result.find_all(\"div\",{\"class\":\"uscitem\"})\n",
    "\n",
    "for i in results:\n",
    "    try:\n",
    "        change = i.find(\"div\",{\"class\":\"usctitlechanged\"}).text \n",
    "        changes.append(change)\n",
    "    except:\n",
    "        pass"
   ]
  },
  {
   "cell_type": "code",
   "execution_count": 20,
   "id": "3697053d",
   "metadata": {},
   "outputs": [
    {
     "data": {
      "text/plain": [
       "['\\n\\n          Title 6 - Domestic Security\\n\\n        ',\n",
       " '\\n\\n          Title 7 - Agriculture\\n\\n        ',\n",
       " '\\n\\n          Title 15 - Commerce and Trade\\n\\n        ',\n",
       " '\\n\\n          Title 16 - Conservation\\n\\n        ',\n",
       " '\\n\\n          Title 18 - Crimes and Criminal Procedure ٭\\n',\n",
       " '\\n\\n          Title 25 - Indians\\n\\n        ',\n",
       " '\\n\\n          Title 28 - Judiciary and Judicial Procedure ٭\\n',\n",
       " '\\n\\n          Title 31 - Money and Finance ٭\\n',\n",
       " '\\n\\n          Title 34 - Crime Control and Law Enforcement\\n\\n        ',\n",
       " '\\n\\n          Title 35 - Patents ٭\\n',\n",
       " '\\n\\n          Title 40 - Public Buildings, Property, and Works ٭\\n',\n",
       " '\\n\\n          Title 42 - The Public Health and Welfare\\n\\n        ',\n",
       " '\\n\\n          Title 47 - Telecommunications\\n\\n        ',\n",
       " '\\n\\n          Title 49 - Transportation ٭\\n']"
      ]
     },
     "metadata": {},
     "output_type": "display_data"
    }
   ],
   "source": [
    "display(changes)"
   ]
  },
  {
   "cell_type": "markdown",
   "id": "12e5567a",
   "metadata": {},
   "source": [
    "##### Removing the unecessary values like \"\\n\" and \" * \" "
   ]
  },
  {
   "cell_type": "code",
   "execution_count": 21,
   "id": "39be24d9",
   "metadata": {},
   "outputs": [],
   "source": [
    "titles = []\n",
    "for i in soup1.select('.usctitlechanged'):\n",
    "    titles.append(i.text.split('.')[0].strip().replace('\\n','').replace(' ٭',''))"
   ]
  },
  {
   "cell_type": "code",
   "execution_count": 22,
   "id": "113d84d3",
   "metadata": {},
   "outputs": [
    {
     "data": {
      "text/plain": [
       "['Title 6 - Domestic Security',\n",
       " 'Title 7 - Agriculture',\n",
       " 'Title 15 - Commerce and Trade',\n",
       " 'Title 16 - Conservation',\n",
       " 'Title 18 - Crimes and Criminal Procedure',\n",
       " 'Title 25 - Indians',\n",
       " 'Title 28 - Judiciary and Judicial Procedure',\n",
       " 'Title 31 - Money and Finance',\n",
       " 'Title 34 - Crime Control and Law Enforcement',\n",
       " 'Title 35 - Patents',\n",
       " 'Title 40 - Public Buildings, Property, and Works',\n",
       " 'Title 42 - The Public Health and Welfare',\n",
       " 'Title 47 - Telecommunications',\n",
       " 'Title 49 - Transportation']"
      ]
     },
     "metadata": {},
     "output_type": "display_data"
    }
   ],
   "source": [
    "display(titles)"
   ]
  },
  {
   "cell_type": "code",
   "execution_count": null,
   "id": "aaa9dfdc",
   "metadata": {},
   "outputs": [],
   "source": []
  }
 ],
 "metadata": {
  "kernelspec": {
   "display_name": "Python 3 (ipykernel)",
   "language": "python",
   "name": "python3"
  },
  "language_info": {
   "codemirror_mode": {
    "name": "ipython",
    "version": 3
   },
   "file_extension": ".py",
   "mimetype": "text/x-python",
   "name": "python",
   "nbconvert_exporter": "python",
   "pygments_lexer": "ipython3",
   "version": "3.9.13"
  }
 },
 "nbformat": 4,
 "nbformat_minor": 5
}
